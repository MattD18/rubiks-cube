{
 "cells": [
  {
   "cell_type": "code",
   "execution_count": 1,
   "metadata": {},
   "outputs": [],
   "source": [
    "%load_ext autoreload\n",
    "%load_ext tensorboard"
   ]
  },
  {
   "cell_type": "code",
   "execution_count": 2,
   "metadata": {},
   "outputs": [],
   "source": [
    "import os\n",
    "import pickle\n",
    "import datetime\n",
    "import sys\n",
    "sys.path.append('..')\n",
    "\n",
    "import tensorflow as tf\n",
    "import numpy as np\n",
    "import matplotlib.pyplot as plt\n",
    "\n",
    "from lib.cube import Cube\n",
    "from lib.solver import CubeSolver\n",
    "from lib.models import CNN\n",
    "from lib.utils import linear_decay_constant, exponential_decay, constant_rate\n",
    "\n",
    "\n",
    "%autoreload\n",
    "%matplotlib inline"
   ]
  },
  {
   "cell_type": "markdown",
   "metadata": {},
   "source": [
    "### Define experiment parameters"
   ]
  },
  {
   "cell_type": "code",
   "execution_count": 3,
   "metadata": {},
   "outputs": [],
   "source": [
    "now = datetime.datetime.now().strftime(\"%Y%d%d%H%M%S\")\n",
    "session_name = 'base_model_v2_{}'.format(now)\n",
    "\n",
    "\n",
    "logs_base_dir = \"../logs/\"\n",
    "config_save_path = os.path.join(logs_base_dir,\n",
    "                                'configs',\n",
    "                                session_name + '.pickle')\n",
    "\n",
    "\n",
    "config = {}\n",
    "\n",
    "config['model_params'] = {'embed_dim':50,\n",
    "                          'num_filters':20,\n",
    "                          'num_conv_layers':1,\n",
    "                          'kernel_size':2,\n",
    "                          'regularization_constant':0,\n",
    "                          'num_dense_layers':1,\n",
    "                           'dense_activation':'elu'}\n",
    "\n",
    "config['training_params'] = {'exploration_rate_func':linear_decay_constant,\n",
    "                             'num_shuffles':2,\n",
    "                             'num_episodes':1000,\n",
    "                             'max_time_steps':5,\n",
    "                             'epsilon':.1,\n",
    "                             'decay_constant':100,\n",
    "                             'end_state_reward':1,\n",
    "                             'replay_buffer_capacity':128,\n",
    "                             'learning_rate':.001,\n",
    "                             'clipnorm':0,\n",
    "                             'batch_size':16,\n",
    "                             'discount_factor':.9,\n",
    "                             'validation_count':100,\n",
    "                             'train_log_name':session_name,\n",
    "                             'stop_on_solve':True}"
   ]
  },
  {
   "cell_type": "markdown",
   "metadata": {},
   "source": [
    "#### Visualize exploration strategy"
   ]
  },
  {
   "cell_type": "code",
   "execution_count": 4,
   "metadata": {},
   "outputs": [
    {
     "name": "stdout",
     "output_type": "stream",
     "text": [
      "Buffer fills in at most 25.6 episodes\n"
     ]
    },
    {
     "data": {
      "image/png": "[encoded data removed]",
      "text/plain": [
       "<Figure size 432x288 with 1 Axes>"
      ]
     },
     "metadata": {
      "needs_background": "light"
     },
     "output_type": "display_data"
    }
   ],
   "source": [
    "num_episodes = config['training_params']['num_episodes']\n",
    "epsilon = config['training_params']['epsilon']\n",
    "decay_constant = config['training_params']['decay_constant']\n",
    "exploration_rate_func = config['training_params']['exploration_rate_func']\n",
    "replay_buffer_capacity = config['training_params']['replay_buffer_capacity']\n",
    "max_time_steps = config['training_params']['max_time_steps']\n",
    "x = range(num_episodes)\n",
    "y = [exploration_rate_func(epsilon, decay_constant, episode) for episode in x]\n",
    "plt.plot(x,y)\n",
    "plt.title(\"Exploration Rate over Episodes\")\n",
    "print(\"Buffer fills in at most {} episodes\".format(replay_buffer_capacity/max_time_steps))"
   ]
  },
  {
   "cell_type": "code",
   "execution_count": 5,
   "metadata": {},
   "outputs": [
    {
     "data": {
      "text/html": [
       "\n",
       "      <iframe id=\"tensorboard-frame-3079f1dc95293fdf\" width=\"100%\" height=\"800\" frameborder=\"0\">\n",
       "      </iframe>\n",
       "      <script>\n",
       "        (function() {\n",
       "          const frame = document.getElementById(\"tensorboard-frame-3079f1dc95293fdf\");\n",
       "          const url = new URL(\"/\", window.location);\n",
       "          url.port = 6008;\n",
       "          frame.src = url;\n",
       "        })();\n",
       "      </script>\n",
       "  "
      ],
      "text/plain": [
       "<IPython.core.display.HTML object>"
      ]
     },
     "metadata": {},
     "output_type": "display_data"
    }
   ],
   "source": [
    "%tensorboard --logdir {logs_base_dir}"
   ]
  },
  {
   "cell_type": "markdown",
   "metadata": {},
   "source": [
    "### Run Experiment + Save Results"
   ]
  },
  {
   "cell_type": "code",
   "execution_count": 6,
   "metadata": {},
   "outputs": [],
   "source": [
    "solver = CubeSolver()\n",
    "solver.model = CNN(**config['model_params'])\n",
    "solver.train(**config['training_params'])\n",
    "solver.save_model_weights(weights_dir_name=session_name)\n",
    "with open(config_save_path ,'wb') as f:\n",
    "    pickle.dump(config, f)"
   ]
  },
  {
   "cell_type": "code",
   "execution_count": 11,
   "metadata": {},
   "outputs": [
    {
     "name": "stdout",
     "output_type": "stream",
     "text": [
      "<bound method Cube.down of <lib.cube.Cube object at 0x1272100f0>>\n",
      "<bound method Cube.front of <lib.cube.Cube object at 0x1272100f0>>\n",
      "\n",
      "<bound method Cube.up of <lib.cube.Cube object at 0x1272100f0>>\n",
      "<bound method Cube.down_p of <lib.cube.Cube object at 0x1272100f0>>\n",
      "<bound method Cube.left_p of <lib.cube.Cube object at 0x1272100f0>>\n",
      "<bound method Cube.up_p of <lib.cube.Cube object at 0x1272100f0>>\n",
      "<bound method Cube.front of <lib.cube.Cube object at 0x1272100f0>>\n"
     ]
    },
    {
     "data": {
      "text/plain": [
       "(False,\n",
       " <lib.cube.Cube at 0x1272100f0>,\n",
       " ['up', 'down_p', 'left_p', 'up_p', 'front'])"
      ]
     },
     "execution_count": 11,
     "metadata": {},
     "output_type": "execute_result"
    }
   ],
   "source": [
    "test_cube = Cube()\n",
    "num_shuffles = config['training_params']['num_shuffles']\n",
    "max_time_steps = config['training_params']['max_time_steps']\n",
    "test_cube.shuffle(num_shuffles, verbose = True)\n",
    "print()\n",
    "solver.solve(test_cube, max_time_steps, verbose = True)"
   ]
  },
  {
   "cell_type": "markdown",
   "metadata": {},
   "source": [
    "## Notes\n",
    "\n",
    "base model can solve one shuffle\n",
    "struggles with 3 shuffles, bigger capacity helps\n",
    "also looks like more training helps, chopy val acc also\n",
    "\n",
    "dying relu? shown by q value gradient_tape/base_model_v2_increased_dims_three_shuffle/train\n",
    "switch to elu \"gradient_tape/base_model_v2_increased_dims_v2/train\"\n",
    "gradient_tape/base_model_v2_20190909234830/train same as ^ but 2000 episode, 200 delay constant\n",
    "gradient_tape/base_model_v2_20190909235656/train increase capacity and overfits\n",
    "gradient_tape/base_model_v2_20191010000732/train overfitting shown clearly here\n",
    "\n",
    "https://arxiv.org/abs/1511.07289"
   ]
  },
  {
   "cell_type": "markdown",
   "metadata": {},
   "source": [
    "### Sandbox"
   ]
  },
  {
   "cell_type": "code",
   "execution_count": null,
   "metadata": {},
   "outputs": [],
   "source": [
    "with open('../logs/configs/base_model_three_shuffle_increased_capacity_longer_training.pickle','rb') as f:\n",
    "    old_params = pickle.load(f)\n",
    "old_params"
   ]
  }
 ],
 "metadata": {
  "kernelspec": {
   "display_name": "Python 3",
   "language": "python",
   "name": "python3"
  },
  "language_info": {
   "codemirror_mode": {
    "name": "ipython",
    "version": 3
   },
   "file_extension": ".py",
   "mimetype": "text/x-python",
   "name": "python",
   "nbconvert_exporter": "python",
   "pygments_lexer": "ipython3",
   "version": "3.6.9"
  }
 },
 "nbformat": 4,
 "nbformat_minor": 2
}
