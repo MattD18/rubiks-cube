{
 "cells": [
  {
   "cell_type": "code",
   "execution_count": 1,
   "metadata": {},
   "outputs": [],
   "source": [
    "import pickle\n",
    "import sys\n",
    "sys.path.append('..')\n",
    "\n",
    "import numpy as np\n",
    "import pandas as pd\n",
    "import matplotlib.pyplot as plt\n",
    "\n",
    "%matplotlib inline"
   ]
  },
  {
   "cell_type": "markdown",
   "metadata": {},
   "source": [
    "## Training with a GPU on Amazon Web Services (AWS)\n",
    "\n",
    "In order to improve the agent's performance, its deep Q network must be trained for a longer time and exposed to many more cubes. For comparison, the network described in Solving the Rubik’s Cube Without Human Knowledge  [1] is exposed to roughly ~8 billion shuffled cubes while the networks described in the part one notebook only saw 1000 shuffled cubes during training. An additional requirement for improved performance is larger network capacity, since more parameters allows for the network to better learn patterns for cube solving.\n",
    "\n",
    "As it is impractical to train large networks for extended periods on my MacBook, a cloud computing solution is instead used for longer training cycles. Specifically, GPU-enabled EC2 instances from Amazon Web Services are used.\n",
    "\n",
    "### Steps for training Rubik's cube solver on AWS\n",
    "\n",
    "#### 1) Launch an EC2 instance\n",
    "\n",
    "        Recommended AMI: TensorFlow from NVIDIA AMI (https://aws.amazon.com/marketplace/pp/B07S2Z9N33)\n",
    "        \n",
    "        Recommended Instance Type: g4dn.xlarge (one of the least-expensive GPU-enabled instance types)\n",
    "        \n",
    "#### 2) SSH into instance \n",
    "\n",
    "    ssh -i <private-key.pem> ubuntu@<instance Public DNS (IPv4)>\n",
    "        \n",
    "#### 3) Clone repo onto EC2 instance\n",
    "\n",
    "    git clone https://github.com/MattD18/rubiks-cube.git \n",
    "\n",
    "#### 4) Pull Tensorflow v2.0 with GPU Docker Image\n",
    "\n",
    "    docker pull tensorflow/tensorflow:2.0.0-gpu-py3\n",
    "    \n",
    "#### 5) Run training script on detached docker container\n",
    "\n",
    "    docker run -v /home/ubuntu/:/home -d -w /home/rubiks-cube/scripts --gpus all -it --rm tensorflow/tensorflow:2.0.0-gpu-py3 python train.py\n",
    "    \n",
    "    Note: Running the training script on a detached docker container allows the user to disconnect from their ssh session with instance during training.\n",
    "    \n",
    "#### 7) Set-Up AWS CLI \n",
    "\n",
    "    sudo apt install awscli \n",
    "    aws configure\n",
    "    \n",
    "#### 6) Upload results to S3 bucket from repo root directory\n",
    "\n",
    "    ./save_results.sh\n",
    "\n",
    "\n",
    "### Note on spot pricing\n",
    "\n",
    "AWS allows users to request EC2 instances at their current \"spot prices\" which are often substanially cheaper than the offered \"on-demand\" price [2]. Spot-instances consequently provide a much more cost effective resource for training models. However, since AWS has the ability to terminate a spot instance based on current demand for the instance type, the training procedure must be fault tolerant.\n",
    "\n",
    "For the training of the Rubik's cube solver, fault tolerance during training is done by checkpointing the networks weights every 500 epochs and saving both the checkpointed weights as well as the training logs (loss and validation accuracy) to an S3 bucket every 2 hours.\n",
    "        \n"
   ]
  },
  {
   "cell_type": "markdown",
   "metadata": {},
   "source": [
    "## Improving solver with Monte Carlo Tree Search (MCTS)\n",
    "\n",
    "In [1], the authors combine Deep Q-Learning with Monte Carlo Tree Search (MCTS) [3] to achieve impressive performance with their Rubik's cube solver. MCTS is a search algorithm that leverages the trained deep Q network and random sampling of the search space to look for a solution. \n",
    "\n",
    "In MCTS, the states of the Rubik's cube are represented as nodes on a tree with the initial shuffled state representing the root node. Each node can have exactly 12 child nodes, each of which represent the state of the cube after applying one of the 12 rotations to the parent node state. If a node does not have child nodes it is called a leaf node. Each node also contains a \"history\" that contains information about the search. Using this tree structure, MCTS searchs for a solution iteratively, with each iteration consisting of four steps: Selection, Expansion, Simulation, and Backpropagation. \n",
    "\n",
    "These four steps are briefly summarized at a conceptual level as follows:\n",
    "\n",
    "**1) Selection**\n",
    "\n",
    "Given the current state of tree succesive child nodes are \"selected\" (in a way that balances exploration and exploitation) until a leaf node is reached.\n",
    "\n",
    "**2) Expansion**\n",
    "\n",
    "If the leaf node does not represent the solved state, the 12 child nodes of the leaf node are added to the tree.\n",
    "\n",
    "**3) Simulation**\n",
    "\n",
    "A move from the leaf node's state to the most promising child node's state is simulated.\n",
    "\n",
    "**4) Backpropagation**\n",
    "\n",
    "The histories of all nodes involved in this iteration of the algorithm are updated based on the outcome of the simulation.\n",
    "\n",
    "For a more detailed description of the Rubik's Cube MCTS method, the reader is referred to section 4.2 of [1]. The implementation used in this repo closely follows this method and can be found in the solve() method of lib.mcts.MCTS(). \n",
    "\n",
    "### MCTS Results\n",
    "\n",
    "To evaluate the benefit of using MCTS, performance is compared between an agent that uses MCTS in conjunction with a deep Q network against an agent that solely uses the deep Q network and greedily takes the best action at each state. The deep Q network used in this experiment is similiar to the ones described in part 1 except this network has 3 dense layers and 3 convolutional layers instead of a single one of each. Also the network was trained for 50,000 episodes of cubes randomly shuffled 5 times on a g4dn.xlarge EC2 instance over an 82 hour period. \n",
    "\n",
    "The agents are assesed on cubes that have been randomly shuffled 3, 5, and 7 times, and in all cases a marked improvement is observed when using MCTS (as show below). The most interesting result is the performance of MCTS on the cubes shuffled 7 times, where solve rate improves from 20% to 49%. What is notable is that the solver is only ever exposed to cubes shuffled 5 times during training so MCTS is vastly improving performance on cubes in previously unseen states."
   ]
  },
  {
   "cell_type": "code",
   "execution_count": 2,
   "metadata": {},
   "outputs": [
    {
     "data": {
      "text/plain": [
       "([<matplotlib.axis.XTick at 0x10deaa240>,\n",
       "  <matplotlib.axis.XTick at 0x10de90a90>,\n",
       "  <matplotlib.axis.XTick at 0x10de906d8>],\n",
       " <a list of 3 Text xticklabel objects>)"
      ]
     },
     "execution_count": 2,
     "metadata": {},
     "output_type": "execute_result"
    },
    {
     "data": {
      "image/png": "[encoded data removed]",
      "text/plain": [
       "<Figure size 720x432 with 1 Axes>"
      ]
     },
     "metadata": {
      "needs_background": "light"
     },
     "output_type": "display_data"
    }
   ],
   "source": [
    "# load pickled mcts and greedy experiment results\n",
    "with open('../results/mcts_exp_results.pickle','rb') as f:\n",
    "    mcts_results = pickle.load(f)\n",
    "with open('../results/greedy_exp_results.pickle','rb') as f:\n",
    "    greedy_results = pickle.load(f)\n",
    "\n",
    "plt.figure(figsize=(10,6))\n",
    "# Setting the positions and width for the bars\n",
    "pos = list(range(len(greedy_results))) \n",
    "width = 0.25 \n",
    "plt.bar(pos, greedy_results.values(), width, label=\"Greedy Solver\")\n",
    "plt.bar([p + width for p in pos], mcts_results.values(), width,label=\"MCTS Solver\")\n",
    "plt.xlabel(\"Scramble Distance\")\n",
    "plt.ylabel(\"Solve Rate (n_trials=100)\")\n",
    "plt.title(\"MCTS vs Greedy Solve Rate\")\n",
    "plt.legend()\n",
    "# Set the position of the x ticks\n",
    "plt.xticks([p + .5 * width for p in pos], labels = list(greedy_results.keys()))"
   ]
  },
  {
   "cell_type": "markdown",
   "metadata": {},
   "source": [
    "### MCTS Accuracy vs Time\n",
    "\n",
    "The MCTS algorithm has no clear stopping criteria other than to stop once the solved state has been reached, so in theory the algorithm could just keep iterating forever. In practice a step or time limit must be enforced after which the algorithm terminates. The choice of this limit will effect the solve rate. In [1], the authors use a time limit of 30 minutes, however, depending on the application this time limit might need to be reduced. For example, if the solver is part of an interactive app, the limit might only be 30 seconds depending on the patience of the user. Below, we show how the solver performs as a function of step limits. "
   ]
  },
  {
   "cell_type": "code",
   "execution_count": 6,
   "metadata": {},
   "outputs": [
    {
     "data": {
      "text/plain": [
       "[<matplotlib.lines.Line2D at 0x10e4749e8>]"
      ]
     },
     "execution_count": 6,
     "metadata": {},
     "output_type": "execute_result"
    },
    {
     "data": {
      "image/png": "[encoded data removed]",
      "text/plain": [
       "<Figure size 720x432 with 1 Axes>"
      ]
     },
     "metadata": {
      "needs_background": "light"
     },
     "output_type": "display_data"
    }
   ],
   "source": [
    "time_trials_df = pd.read_csv('../data/time_trials.csv')\n",
    "time_trials = time_trials_df[['n_searches','solve_rate']]\n",
    "n_searches = time_trials['n_searches'].values\n",
    "solve_rate = time_trials['solve_rate'].values\n",
    "solve_rate\n",
    "\n",
    "plt.figure(figsize=(10,6))\n",
    "plt.xlabel(\"# Iterations\")\n",
    "plt.ylabel(\"Solve Rate\")\n",
    "plt.title(\"Solve Rate vs # Iterations on Cubes Shuffled 5 Times\")\n",
    "plt.plot(n_searches,solve_rate)"
   ]
  },
  {
   "cell_type": "markdown",
   "metadata": {},
   "source": [
    "### Next Steps\n",
    "\n",
    "To come is the final version of the trained network and a discussion of findings.\n",
    "\n",
    "## Sources\n",
    "\n",
    "[1] https://arxiv.org/pdf/1805.07470.pdf\n",
    "\n",
    "[2] https://aws.amazon.com/ec2/spot/pricing/\n",
    "\n",
    "[3] https://en.wikipedia.org/wiki/Monte_Carlo_tree_search#Monte_Carlo_Tree_Search_(MCTS)\n",
    "\n",
    "\n"
   ]
  },
  {
   "cell_type": "code",
   "execution_count": null,
   "metadata": {},
   "outputs": [],
   "source": []
  }
 ],
 "metadata": {
  "kernelspec": {
   "display_name": "Python 3",
   "language": "python",
   "name": "python3"
  },
  "language_info": {
   "codemirror_mode": {
    "name": "ipython",
    "version": 3
   },
   "file_extension": ".py",
   "mimetype": "text/x-python",
   "name": "python",
   "nbconvert_exporter": "python",
   "pygments_lexer": "ipython3",
   "version": "3.6.9"
  }
 },
 "nbformat": 4,
 "nbformat_minor": 2
}
