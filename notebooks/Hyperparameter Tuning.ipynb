{
 "cells": [
  {
   "cell_type": "code",
   "execution_count": 1,
   "metadata": {},
   "outputs": [],
   "source": [
    "%load_ext autoreload\n",
    "%load_ext tensorboard"
   ]
  },
  {
   "cell_type": "code",
   "execution_count": 2,
   "metadata": {},
   "outputs": [],
   "source": [
    "import os\n",
    "import datetime\n",
    "import pickle\n",
    "import sys\n",
    "sys.path.append('..')\n",
    "\n",
    "import tensorflow as tf\n",
    "from tensorboard.plugins.hparams import api as hp\n",
    "\n",
    "from lib.cube import Cube\n",
    "from lib.solver import CubeSolver\n",
    "from lib.models import CNN\n",
    "from lib.utils import linear_decay_constant, exponential_decay, constant_rate\n",
    "\n",
    "\n",
    "%autoreload"
   ]
  },
  {
   "cell_type": "code",
   "execution_count": 3,
   "metadata": {},
   "outputs": [],
   "source": [
    "now = datetime.datetime.now().strftime(\"%Y%d%d%H%M%S\")\n",
    "session_name = 'base_model_v2_{}'.format(now)\n",
    "\n",
    "\n",
    "config = {}\n",
    "\n",
    "config['model_params'] = {'embed_dim':100,\n",
    "                          'num_filters':50,\n",
    "                          'num_conv_layers':3,\n",
    "                          'kernel_size':2,\n",
    "                          'regularization_constant':.5,\n",
    "                          'num_dense_layers':3,\n",
    "                           'dense_activation':'elu'}\n",
    "\n",
    "config['training_params'] = {'exploration_rate_func':linear_decay_constant,\n",
    "                             'num_shuffles':3,\n",
    "                             'num_episodes':5000,\n",
    "                             'max_time_steps':5,\n",
    "                             'epsilon':None,\n",
    "                             'decay_constant':0,\n",
    "                             'end_state_reward':1,\n",
    "                             'replay_buffer_capacity':128,\n",
    "                             'learning_rate':.0001,\n",
    "                             'clipnorm':0,\n",
    "                             'batch_size':16,\n",
    "                             'discount_factor':.9,\n",
    "                             'validation_count':100,\n",
    "                             'train_log_name':session_name,\n",
    "                             'logging':False,\n",
    "                             'stop_on_solve':True}"
   ]
  },
  {
   "cell_type": "code",
   "execution_count": null,
   "metadata": {},
   "outputs": [
    {
     "name": "stdout",
     "output_type": "stream",
     "text": [
      "--- Starting trial: run-0\n",
      "--- Starting trial: run-1\n"
     ]
    }
   ],
   "source": [
    "tuning_log_dir='../logs/hptuning/'\n",
    "config_save_path = os.path.join(tuning_log_dir,\n",
    "                                'configs',\n",
    "                                session_name + '.pickle')\n",
    "\n",
    "with open(config_save_path ,'wb') as f:\n",
    "    pickle.dump(config, f)\n",
    "\n",
    "HP_REG_CONSTANT = hp.HParam('regularization_constant', hp.Discrete([0.5]))\n",
    "HP_EXP_CONSTANT = hp.HParam('epsilon', hp.Discrete([0.05, .1,.25]))\n",
    "HP_BUFFER = hp.HParam('replay_buffer_capacity', hp.Discrete([128]))\n",
    "\n",
    "\n",
    "session_num = 0\n",
    "validation_count = 100\n",
    "\n",
    "for reg_constant in HP_REG_CONSTANT.domain.values:\n",
    "    for exp_constant in HP_EXP_CONSTANT.domain.values:\n",
    "        for buffer in HP_BUFFER.domain.values:\n",
    "            run_name = \"run-%d\" % session_num\n",
    "            print('--- Starting trial: %s' % run_name)\n",
    "            hparams = {'regularization_constant': reg_constant,\n",
    "                       'epsilon':exp_constant,\n",
    "                       'replay_buffer_capacity':buffer}\n",
    "            for hyper_parameter in hparams:\n",
    "                if hyper_parameter in config['model_params']:\n",
    "                    config['model_params'][hyper_parameter] = hparams[hyper_parameter]\n",
    "                elif hyper_parameter in config['training_params']:\n",
    "                    config['training_params'][hyper_parameter] = hparams[hyper_parameter]\n",
    "\n",
    "            tuning_log_session_dir = os.path.join(tuning_log_dir,session_name,str(session_num))\n",
    "            with tf.summary.create_file_writer(tuning_log_session_dir).as_default():\n",
    "                hp.hparams(hparams)\n",
    "                solver = CubeSolver()\n",
    "                solver.model = CNN(**config['model_params'])\n",
    "                solver.train(**config['training_params'])\n",
    "\n",
    "                solve_count = 0\n",
    "                for val_trial in range(validation_count):\n",
    "                    val_trial_cube = Cube()\n",
    "                    val_trial_cube.shuffle(config['training_params']['num_shuffles'])\n",
    "                    solve_count += solver.solve(val_trial_cube, config['training_params']['max_time_steps'])[0]\n",
    "                    val_acc = float(solve_count) / float(validation_count)\n",
    "                tf.summary.scalar('accuracy', val_acc, step=1)\n",
    "            session_num+=1\n",
    "\n",
    "\n"
   ]
  },
  {
   "cell_type": "code",
   "execution_count": null,
   "metadata": {},
   "outputs": [],
   "source": []
  }
 ],
 "metadata": {
  "kernelspec": {
   "display_name": "Python 3",
   "language": "python",
   "name": "python3"
  },
  "language_info": {
   "codemirror_mode": {
    "name": "ipython",
    "version": 3
   },
   "file_extension": ".py",
   "mimetype": "text/x-python",
   "name": "python",
   "nbconvert_exporter": "python",
   "pygments_lexer": "ipython3",
   "version": "3.6.9"
  }
 },
 "nbformat": 4,
 "nbformat_minor": 2
}
