{
 "cells": [
  {
   "cell_type": "markdown",
   "metadata": {},
   "source": [
    "## Results"
   ]
  },
  {
   "cell_type": "markdown",
   "metadata": {},
   "source": [
    "The final model trained was "
   ]
  },
  {
   "cell_type": "markdown",
   "metadata": {},
   "source": [
    "## Comparison to other paper\n",
    "-line chart figure\n",
    "-discuss using \"weighted\" samples during training\n",
    "-convolution vs dense (compare number of parameters)\n",
    "\n",
    "\n",
    "-memorization vs actualy learning\n",
    "-run experiment on 3 scramble distance, only show some of the patterns figure out if it can solve the rest\n",
    "-distribution of number of searches needed\n",
    "\n",
    "\n",
    "\n",
    "\n",
    "## Deployment\n",
    "\n",
    "One application of the agent is to deploy it on the back-end of a simple flask app, which can be started from the command line when in the root directory of this repo via:\n",
    "\n",
    "```\n",
    "python app.py\n",
    "```\n",
    "\n",
    "The front-end Rubix cube emulator is a slightly modified version of the one devloped by Ebin Xavier:\n",
    "https://github.com/ebinxavier/rubiksCube\n",
    "\n",
    "Note: To run the app, a trained model with weights must already exist in data/models/ and must be referenced within app.py."
   ]
  },
  {
   "attachments": {
    "image.png": {
     "image/png": "[encoded data removed]"
    }
   },
   "cell_type": "markdown",
   "metadata": {},
   "source": [
    "add to resume: The agent is able to solve <fully scrambled cubes>\n",
    "in <less than 30 minutes> which slightly outperforms the results from McAleer et al. \n",
    "![image.png](attachment:image.png)"
   ]
  },
  {
   "cell_type": "code",
   "execution_count": null,
   "metadata": {},
   "outputs": [],
   "source": []
  }
 ],
 "metadata": {
  "kernelspec": {
   "display_name": "Python 3",
   "language": "python",
   "name": "python3"
  },
  "language_info": {
   "codemirror_mode": {
    "name": "ipython",
    "version": 3
   },
   "file_extension": ".py",
   "mimetype": "text/x-python",
   "name": "python",
   "nbconvert_exporter": "python",
   "pygments_lexer": "ipython3",
   "version": "3.6.9"
  }
 },
 "nbformat": 4,
 "nbformat_minor": 2
}
