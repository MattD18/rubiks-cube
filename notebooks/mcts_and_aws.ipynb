{
 "cells": [
  {
   "cell_type": "markdown",
   "metadata": {},
   "source": [
    "# Training a Rubix Cube Solver via Reinforcement Learning: Part 2"
   ]
  },
  {
   "cell_type": "code",
   "execution_count": 28,
   "metadata": {},
   "outputs": [],
   "source": [
    "import sys\n",
    "sys.path.append('..')\n",
    "\n",
    "import numpy as np\n",
    "import matplotlib.pyplot as plt\n",
    "\n",
    "from lib.cube import Cube\n",
    "from lib.mcts import MCTS\n",
    "from lib.solver import CubeSolver\n",
    "from lib.models import CNN\n",
    "\n",
    "%matplotlib inline"
   ]
  },
  {
   "cell_type": "markdown",
   "metadata": {},
   "source": [
    "## Improving solver with Monte Carlo Tree Search (MCTS)\n",
    "\n",
    "In Solving the Rubik’s Cube Without Human Knowledge [1], the authors combine Deep Q-Learning with Monte Carlo Tree Search to achieve impressive performance with their Rubix Cube solver. This approach is adopted for this solver to improve its performance as well."
   ]
  },
  {
   "cell_type": "code",
   "execution_count": 23,
   "metadata": {},
   "outputs": [],
   "source": [
    "config = {}\n",
    "\n",
    "config['model_params'] = {'embed_dim':100,\n",
    "                          'num_filters':50,\n",
    "                          'num_conv_layers':3,\n",
    "                          'kernel_size':2,\n",
    "                          'regularization_constant':.05,\n",
    "                          'num_dense_layers':3,\n",
    "                           'dense_activation':'elu',\n",
    "                         'conv_activation': 'elu'}\n",
    "\n",
    "model = CNN(**config['model_params'])\n",
    "model_path = '../models/base_model_v2_20191208165135/weights'\n",
    "\n",
    "def test_solver(solver, num_shuffles, num_trials=1000):\n",
    "    num_solved = 0\n",
    "    for trial in range(num_trials):\n",
    "        cube = Cube()\n",
    "        cube.shuffle(num_shuffles=num_shuffles,verbose=False)\n",
    "        if type(solver) == MCTS:\n",
    "            solved,_ = solver.solve(cube,verbose=False)\n",
    "        elif type(solver) == CubeSolver:\n",
    "            solved,_,_ = solver.solve(cube,max_time_steps=num_shuffles*2,verbose=False)\n",
    "        if solved:\n",
    "            num_solved +=1 \n",
    "    solve_rate = num_solved/num_trials\n",
    "    return solve_rate\n",
    "\n",
    "greedy_solver = CubeSolver()\n",
    "greedy_solver.model = model\n",
    "greedy_solver.load_model_weights(model_path)\n",
    "\n",
    "mcts_solver = MCTS(model, c=.1, v=.1, num_searches=100)\n",
    "mcts_solver.load_model_weights(model_path)"
   ]
  },
  {
   "cell_type": "code",
   "execution_count": 51,
   "metadata": {},
   "outputs": [
    {
     "data": {
      "text/plain": [
       "([<matplotlib.axis.XTick at 0x1339b8a20>,\n",
       "  <matplotlib.axis.XTick at 0x1339b8be0>,\n",
       "  <matplotlib.axis.XTick at 0x133e4c470>],\n",
       " <a list of 3 Text xticklabel objects>)"
      ]
     },
     "execution_count": 51,
     "metadata": {},
     "output_type": "execute_result"
    },
    {
     "data": {
      "image/png": "[encoded data removed]",
      "text/plain": [
       "<Figure size 432x288 with 1 Axes>"
      ]
     },
     "metadata": {
      "needs_background": "light"
     },
     "output_type": "display_data"
    }
   ],
   "source": [
    "mcts_results = {}\n",
    "greedy_results = {}\n",
    "for num_shuffles in [3,5,7]:\n",
    "    mcts_results[num_shuffles] = test_solver(mcts_solver,num_shuffles=num_shuffles, num_trials=100)\n",
    "    greedy_results[num_shuffles] = test_solver(greedy_solver,num_shuffles=num_shuffles, num_trials=100)\n",
    "\n",
    "# Setting the positions and width for the bars\n",
    "pos = list(range(len(greedy_results))) \n",
    "width = 0.25 \n",
    "\n",
    "plt.bar(pos, greedy_results.values(), width)\n",
    "plt.bar([p + width for p in pos], mcts_results.values(), width)\n",
    "plt.xlabel(\"Scramble Distance\")\n",
    "plt.ylabel(\"Solve Rate (n_trials=100)\")\n",
    "# Set the position of the x ticks\n",
    "plt.xticks([p + .5 * width for p in pos], labels = list(greedy_results.keys()))\n"
   ]
  },
  {
   "cell_type": "markdown",
   "metadata": {},
   "source": [
    "## Training with a GPU on AWS\n",
    "\n",
    "In order to improve the performance of the Rubix Cube Solver, its neural network must be trained for a longer time and attempt to solve many more cubes. For example, the network trained in [1] is exposed to roughly ~8 billion examples of a shuffled cube. In comparison, the networks trained in part one only saw at 1000 examples of a shuffled cube. \n",
    "\n",
    "\n",
    "As it is impractical to train the solver for extended periods on my MacBook, a cloud computing solution is instead used for longer training cycles, specifically Amazon Web Services (AWS).\n",
    "\n",
    "### Steps for training Rubix Cube Solver on AWS\n",
    "\n",
    "#### 1) Launch an EC2 instance\n",
    "\n",
    "        Recommended AMI: TensorFlow from NVIDIA AMI (https://aws.amazon.com/marketplace/pp/B07S2Z9N33)\n",
    "        \n",
    "        Recommended Instance Type: g4dn.xlarge (one of the least-expensive GPU-enabled instance types)\n",
    "        \n",
    "#### 2) SSH into instance \n",
    "\n",
    "    ssh -i <private-key.pem> ubuntu@<instance Public DNS (IPv4)>\n",
    "        \n",
    "#### 3) Clone repo onto EC2 instance\n",
    "\n",
    "    git clone https://github.com/MattD18/rubix-cube.git \n",
    "\n",
    "#### 4) Pull Tensorflow v2.0 with GPU Docker Image\n",
    "\n",
    "    docker pull tensorflow/tensorflow:2.0.0-gpu-py3\n",
    "    \n",
    "#### 5) Run training script on detached docker container\n",
    "\n",
    "    docker run -v /home/ubuntu/:/home -d -w /home/rubix-cube/scripts --gpus all -it --rm tensorflow/tensorflow:2.0.0-gpu-py3 python train.py\n",
    "    \n",
    "    Note: Running the training script on a detached docker container allows the user to disconnect from their ssh session with instance during training.\n",
    "    \n",
    "#### 7) Set-Up AWS CLI \n",
    "\n",
    "    sudo apt install awscli \n",
    "    aws configure\n",
    "    \n",
    "#### 6) Upload results to S3 bucket from repo root directory\n",
    "\n",
    "    ./save_results.sh\n",
    "\n",
    "\n",
    "### Note on spot pricing\n",
    "\n",
    "AWS allows users to request EC2 instances at their current \"spot prices\" which are often substanially cheaper than the offered \"on-demand\" price [2]. Spot-instances consequently provide a much more cost effective resource for training models. However, since AWS has the ability to terminate a spot instance based on current demand for the instance type, the training procedure must be fault tolerant.\n",
    "\n",
    "For the training of the Rubix Cube solver, fault tolerance during training is done by checkpointing the networks weights every 500 epochs and saving both the checkpointed weights as well as the training logs (loss and validation accuracy) to an S3 bucket every 2 hours.\n",
    "        \n"
   ]
  },
  {
   "cell_type": "markdown",
   "metadata": {},
   "source": [
    "## Source\n",
    "\n",
    "[1] https://arxiv.org/pdf/1805.07470.pdf\n",
    "\n",
    "[2] https://aws.amazon.com/ec2/spot/pricing/"
   ]
  }
 ],
 "metadata": {
  "kernelspec": {
   "display_name": "Python 3",
   "language": "python",
   "name": "python3"
  },
  "language_info": {
   "codemirror_mode": {
    "name": "ipython",
    "version": 3
   },
   "file_extension": ".py",
   "mimetype": "text/x-python",
   "name": "python",
   "nbconvert_exporter": "python",
   "pygments_lexer": "ipython3",
   "version": "3.6.9"
  }
 },
 "nbformat": 4,
 "nbformat_minor": 2
}
