{
 "cells": [
  {
   "cell_type": "markdown",
   "metadata": {},
   "source": [
    "# Training a Rubix Cube Solver via Reinforcement Learning: Part 2"
   ]
  },
  {
   "cell_type": "markdown",
   "metadata": {},
   "source": [
    "## Improving solver with Monte Carlo Tree Search (MCTS)\n",
    "\n",
    "In Solving the Rubik’s Cube Without Human Knowledge [1], the authors combine Deep Q-Learning with Monte Carlo Tree Search to achieve impressive performance with their Rubix Cube solver. This approach is adopted for this solver to improve its performance as well."
   ]
  },
  {
   "cell_type": "markdown",
   "metadata": {},
   "source": [
    "## Training with a GPU on AWS\n",
    "\n",
    "In order to improve the performance of the Rubix Cube Solver, its neural network must be trained for a longer time and attempt to solve many more cubes. For example, the network trained in [1] is exposed to roughly ~8 billion examples of a shuffled cube. In comparison, the networks trained in part one only saw at 1000 examples of a shuffled cube. \n",
    "\n",
    "\n",
    "As it is impractical to train the solver for extended periods on my MacBook, a cloud computing solution is instead used for longer training cycles, specifically Amazon Web Services (AWS).\n",
    "\n",
    "### Steps for training Rubix Cube Solver on AWS\n",
    "\n",
    "#### 1) Launch an EC2 instance\n",
    "\n",
    "        Recommended AMI: TensorFlow from NVIDIA AMI (https://aws.amazon.com/marketplace/pp/B07S2Z9N33)\n",
    "        \n",
    "        Recommended Instance Type: g4dn.xlarge (one of the least-expensive GPU-enabled instance types)\n",
    "        \n",
    "#### 2) SSH into instance \n",
    "\n",
    "    ssh -i <private-key.pem> ubuntu@<instance Public DNS (IPv4)>\n",
    "        \n",
    "#### 3) Clone repo onto EC2 instance\n",
    "\n",
    "    git clone https://github.com/MattD18/rubix-cube.git \n",
    "\n",
    "#### 4) Pull Tensorflow v2.0 with GPU Docker Image\n",
    "\n",
    "    docker pull tensorflow/tensorflow:2.0.0-gpu-py3\n",
    "    \n",
    "#### 5) Run training script on detached docker container\n",
    "\n",
    "    docker run -v /home/ubuntu/:/home -d -w /home/rubix-cube/scripts --gpus all -it --rm\n",
    "    tensorflow/tensorflow:2.0.0-gpu-py3 python train.py\n",
    "    \n",
    "    Note: Running the training script on a detached docker container allows the user to disconnect from their ssh \n",
    "    session with instance during training.\n",
    "    \n",
    "#### 7) Set-Up AWS CLI \n",
    "\n",
    "    sudo apt install awscli \n",
    "    aws configure\n",
    "    \n",
    "#### 6) Upload results to S3 bucket from repo root directory\n",
    "\n",
    "    ./save_results.sh\n",
    "\n",
    "\n",
    "### Note on spot pricing\n",
    "\n",
    "AWS allows users to request EC2 instances at their current \"spot prices\" which are often substanially cheaper than the offered \"on-demand\" price [2]. Spot-instances consequently provide a much more cost effective resource for training models. However, since AWS has the ability to terminate a spot instance based on current demand for the instance type, the training procedure must be fault tolerant.\n",
    "\n",
    "For the training of the Rubix Cube solver, fault tolerance during training is done by checkpointing the networks weights every 500 epochs and saving both the checkpointed weights as well as the training logs (loss and validation accuracy) to an S3 bucket every 2 hours.\n",
    "        \n"
   ]
  },
  {
   "cell_type": "markdown",
   "metadata": {},
   "source": [
    "## Source\n",
    "\n",
    "[1] https://arxiv.org/pdf/1805.07470.pdf\n",
    "\n",
    "[2] https://aws.amazon.com/ec2/spot/pricing/"
   ]
  },
  {
   "cell_type": "code",
   "execution_count": null,
   "metadata": {},
   "outputs": [],
   "source": []
  }
 ],
 "metadata": {
  "kernelspec": {
   "display_name": "Python 3",
   "language": "python",
   "name": "python3"
  },
  "language_info": {
   "codemirror_mode": {
    "name": "ipython",
    "version": 3
   },
   "file_extension": ".py",
   "mimetype": "text/x-python",
   "name": "python",
   "nbconvert_exporter": "python",
   "pygments_lexer": "ipython3",
   "version": "3.6.9"
  }
 },
 "nbformat": 4,
 "nbformat_minor": 2
}
